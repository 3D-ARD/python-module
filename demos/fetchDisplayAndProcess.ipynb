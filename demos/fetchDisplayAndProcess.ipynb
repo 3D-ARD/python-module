{
 "cells": [
  {
   "cell_type": "code",
   "execution_count": 59,
   "metadata": {},
   "outputs": [],
   "source": [
    "from ThreeDARD import *"
   ]
  },
  {
   "cell_type": "code",
   "execution_count": 60,
   "metadata": {},
   "outputs": [],
   "source": [
    "# Link to local file system\n",
    "if not dataset.isInitialized(): \n",
    "    dataset.init(\"./dataset\")"
   ]
  },
  {
   "cell_type": "code",
   "execution_count": 61,
   "metadata": {},
   "outputs": [
    {
     "name": "stdout",
     "output_type": "stream",
     "text": [
      "    Retrieve assets.json from cache\n",
      "['Bone', 'Charango', 'Great_tit_skull', 'Haut_Carre', 'Junk_ship', 'Lady_of_Elche', 'Maitreya_Buddha']\n"
     ]
    }
   ],
   "source": [
    "# List all assets availables\n",
    "d = dataset.getDatasetMeta()\n",
    "print (d[\"assets\"])"
   ]
  },
  {
   "cell_type": "code",
   "execution_count": 62,
   "metadata": {},
   "outputs": [
    {
     "name": "stdout",
     "output_type": "stream",
     "text": [
      "    Checking if file Haut_Carre/asset.json is available online...\n",
      "    File available\n",
      "    Fetching Haut_Carre/asset.json from online dataset...\n",
      "    Creating directory ./dataset/Haut_Carre\n",
      "['0000', '0001', '0002', '0003', '0004', '0005', '0006', '0007', '0008', '0009', '0010', '0011', '0012', '0013']\n"
     ]
    }
   ],
   "source": [
    "# Take one asset and list its units\n",
    "asset=dataset.getAssetMeta(\"Haut_Carre\")\n",
    "print (asset[\"units\"])"
   ]
  },
  {
   "cell_type": "code",
   "execution_count": 63,
   "metadata": {},
   "outputs": [
    {
     "name": "stdout",
     "output_type": "stream",
     "text": [
      "    Checking if file Haut_Carre/0013/unit.json is available online...\n",
      "    File available\n",
      "    Fetching Haut_Carre/0013/unit.json from online dataset...\n",
      "    Creating directory ./dataset/Haut_Carre/0013\n",
      "{'name': 'Mesh_lod', 'slug': 'Mesh_lod', 'author': 'MARCADET Quentin <quentin.marcadet@gmail.com>', 'type': 'process', 'id': '0021', 'hardware': [''], 'software': ['Autodesk 3DS Max'], 'description': 'Mesh in different level of details of the annex building, old building. File in .obj format.', 'details': 'Four level of details are present. Based on the CityGML models', 'inputs': ['0011'], 'related': [''], 'outputs': [{'filename': 'mesh_lod_2_1.obj'}, {'filename': 'mesh_lod_2_1.mtl'}, {'filename': 'mesh_lod_3_1.obj'}, {'filename': 'mesh_lod_3_1.mtl'}, {'filename': 'mesh_lod_3_2.obj'}, {'filename': 'mesh_lod_3_2.mtl'}, {'filename': 'mesh_lod_3_3.obj'}, {'filename': 'mesh_lod_3_3.mtl'}]}\n"
     ]
    }
   ],
   "source": [
    "# Get unit metadata, download mesh and display\n",
    "unit=dataset.getUnitMeta(\"Haut_Carre\", \"0013\")\n",
    "print(unit)"
   ]
  },
  {
   "cell_type": "code",
   "execution_count": null,
   "metadata": {},
   "outputs": [],
   "source": [
    "# Download 3d model\n",
    "objpath = dataset.getUnitDataPath(\"Haut_Carre\", \"0013\", \"mesh_lod_3_3.obj\")\n",
    "dataset.getUnitDataPath(\"Haut_Carre\", \"0013\", \"mesh_lod_3_3.mtl\")\n",
    "\n",
    "import trimesh, networkx\n",
    "m = trimesh.load(objpath,process=False)\n",
    "\n",
    "m.show()"
   ]
  },
  {
   "cell_type": "code",
   "execution_count": 65,
   "metadata": {},
   "outputs": [
    {
     "name": "stdout",
     "output_type": "stream",
     "text": [
      "    Retrieve Maitreya_Buddha/0006/unit.json from cache\n",
      "{'name': 'Scans', 'slug': 'scans', 'author': 'MARCADET Quentin <quentin.marcadet@gmail.com>', 'type': 'acquired', 'id': '0006', 'hardware': ['HandyScan Creaform'], 'software': ['Geomagic Wrap'], 'description': 'Set of 3 unaligned scans of Maitreya Buddha Statue in .ply format file with their text files containing point coordinates', 'details': '', 'inputs': [], 'related': [], 'outputs': [{'filename': 'scan01.ply'}, {'filename': 'scan02.ply'}, {'filename': 'scan03.ply'}]}\n"
     ]
    }
   ],
   "source": [
    "# Get unit metadata, download point cloud and display\n",
    "unit=dataset.getUnitMeta(\"Maitreya_Buddha\", \"0006\")\n",
    "print(unit)\n",
    "\n"
   ]
  },
  {
   "cell_type": "code",
   "execution_count": 66,
   "metadata": {},
   "outputs": [
    {
     "name": "stdout",
     "output_type": "stream",
     "text": [
      "    Retrieve Maitreya_Buddha/0006/scan01.ply from cache\n",
      "geometry::PointCloud with 2403956 points.\n"
     ]
    }
   ],
   "source": [
    "# Download first scan\n",
    "plypath = dataset.getUnitDataPath(\"Maitreya_Buddha\", \"0006\", \"scan01.ply\")\n",
    "\n",
    "import open3d\n",
    "m = open3d.io.read_point_cloud(plypath)\n",
    "m.paint_uniform_color([1, 0.706, 0])\n",
    "m.estimate_normals(search_param=o3d.geometry.KDTreeSearchParamHybrid(radius=1, max_nn=10))\n",
    "print(m)\n",
    "open3d.visualization.draw_geometries([m])"
   ]
  },
  {
   "cell_type": "code",
   "execution_count": 67,
   "metadata": {
    "scrolled": false
   },
   "outputs": [
    {
     "name": "stdout",
     "output_type": "stream",
     "text": [
      "    Retrieve Maitreya_Buddha/0006/scan02.ply from cache\n",
      "geometry::PointCloud with 2403956 points.\n"
     ]
    }
   ],
   "source": [
    "# Download second scan\n",
    "plypath = dataset.getUnitDataPath(\"Maitreya_Buddha\", \"0006\", \"scan02.ply\")\n",
    "\n",
    "import open3d\n",
    "m2 = open3d.io.read_point_cloud(plypath)\n",
    "m2.paint_uniform_color([0, 0.651, 0.929])\n",
    "m2.estimate_normals(search_param=o3d.geometry.KDTreeSearchParamHybrid(radius=1, max_nn=10))\n",
    "print(m)\n",
    "open3d.visualization.draw_geometries([m2])"
   ]
  },
  {
   "cell_type": "code",
   "execution_count": 68,
   "metadata": {},
   "outputs": [
    {
     "name": "stdout",
     "output_type": "stream",
     "text": [
      "Apply point-to-plane ICP\n"
     ]
    }
   ],
   "source": [
    "print(\"Apply point-to-plane ICP\")\n",
    "import numpy as np\n",
    "trans_init = np.asarray([[1.0, 0.0, 0.0, 0.0],\n",
    "                         [0.0, 1.0, 0.0, 0.0],\n",
    "                         [0.0, 0.0, 1.0, 0.0],\n",
    "                         [0.0, 0.0, 0.0, 1.0]])\n",
    "reg_p2l = o3d.registration.registration_icp(m, m2, 1, trans_init, o3d.registration.TransformationEstimationPointToPlane())"
   ]
  },
  {
   "cell_type": "code",
   "execution_count": 69,
   "metadata": {},
   "outputs": [],
   "source": [
    "m2.transform(reg_p2l.transformation)\n",
    "open3d.visualization.draw_geometries([m,m2])"
   ]
  },
  {
   "cell_type": "code",
   "execution_count": null,
   "metadata": {},
   "outputs": [],
   "source": []
  }
 ],
 "metadata": {
  "kernelspec": {
   "display_name": "Python 3",
   "language": "python",
   "name": "python3"
  },
  "language_info": {
   "codemirror_mode": {
    "name": "ipython",
    "version": 3
   },
   "file_extension": ".py",
   "mimetype": "text/x-python",
   "name": "python",
   "nbconvert_exporter": "python",
   "pygments_lexer": "ipython3",
   "version": "3.8.6"
  }
 },
 "nbformat": 4,
 "nbformat_minor": 4
}
